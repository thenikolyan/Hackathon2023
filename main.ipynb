{
 "cells": [
  {
   "cell_type": "code",
   "execution_count": 1,
   "id": "d5634233",
   "metadata": {},
   "outputs": [],
   "source": [
    "import numpy as np\n",
    "import pandas as pd\n",
    "import random\n",
    "import copy\n",
    "\n",
    "from math import sqrt, log\n",
    "import datetime as dt\n",
    "import matplotlib.pyplot as plt\n",
    "from sklearn.cluster import KMeans\n",
    "import scipy.spatial\n",
    "from haversine import haversine\n",
    "\n",
    "import warnings\n",
    "warnings.filterwarnings('ignore')"
   ]
  },
  {
   "cell_type": "markdown",
   "id": "33f56935",
   "metadata": {},
   "source": [
    "#### Download datasets"
   ]
  },
  {
   "cell_type": "code",
   "execution_count": 2,
   "id": "0084556a",
   "metadata": {},
   "outputs": [],
   "source": [
    "times = pd.read_csv(rf'./files/times v4.csv', sep=',')\n",
    "lenght = pd.read_excel(rf'./files/terminal_data_hackathon v4.xlsx', sheet_name='TIDS')\n",
    "income = pd.read_excel(rf'./files/terminal_data_hackathon v4.xlsx', sheet_name='Incomes')\n",
    "\n",
    "income = income.set_index('TID')\n",
    "lenght = lenght.set_index('TID')\n",
    "\n",
    "random.seed(42)"
   ]
  },
  {
   "cell_type": "code",
   "execution_count": 3,
   "id": "c83beb30",
   "metadata": {},
   "outputs": [],
   "source": [
    "distance_matrix = times.pivot_table(index = 'Origin_tid', columns = 'Destination_tid', values = 'Total_Time')\n",
    "distance_matrix = distance_matrix.fillna(0)"
   ]
  },
  {
   "cell_type": "markdown",
   "id": "54d2a644",
   "metadata": {},
   "source": [
    "# Visualisation"
   ]
  },
  {
   "cell_type": "code",
   "execution_count": 4,
   "id": "a450fe0a",
   "metadata": {},
   "outputs": [],
   "source": [
    "def get_divisors(number):\n",
    "  result = {1, number}\n",
    "  for divisor in range(2, number // 2  + 1):\n",
    "    if number % divisor == 0:\n",
    "        result.add(divisor)\n",
    "\n",
    "  result = list(sorted(result))\n",
    "  lenght_list = len(result)//2\n",
    "\n",
    "  return result[lenght_list-1:lenght_list+1]"
   ]
  },
  {
   "cell_type": "code",
   "execution_count": 5,
   "id": "5b0e2099",
   "metadata": {},
   "outputs": [],
   "source": [
    "def separation_to_squares(df: pd.DataFrame, n_squares: int=4) -> dict:\n",
    "\n",
    "    '''\n",
    "        if n_squares is not power of 2, separetion will be separate for bigger different of metrics\n",
    "    '''\n",
    "    if n_squares < 0:\n",
    "        print('Separation number is negative')\n",
    "        return {}\n",
    "    \n",
    "    north = df.longitude.max()\n",
    "    south = df.longitude.min()\n",
    "    east = df.latitude.max()\n",
    "    west = df.latitude.min()\n",
    "\n",
    "    result = dict()\n",
    "\n",
    "    '''\n",
    "        search divisors for separetion of square\n",
    "    '''\n",
    "    if n_squares ** .5 == int(n_squares ** .5):\n",
    "        multiplies = [int(sqrt(n_squares))-1]*2\n",
    "    else:\n",
    "        multiplies = get_divisors(n_squares)\n",
    "        if multiplies[0] == 1:\n",
    "            print('Primal number!')\n",
    "            return result\n",
    "\n",
    "    '''\n",
    "        determine the position vaertical or horizontal\n",
    "    '''\n",
    "    if (north - south) > (east - west):\n",
    "        position = 'vertical'\n",
    "    else:\n",
    "        position = 'horizontal'\n",
    "\n",
    "\n",
    "    minimal = multiplies[0]+1\n",
    "    maximal = multiplies[1]+1\n",
    "    if multiplies[0] != multiplies[1]:\n",
    "        if (n_squares != 0) and (n_squares & (n_squares-1) == 0):\n",
    "                if position == 'vertical':\n",
    "                    result['longitude'] = list(np.linspace(north, south, minimal))\n",
    "                    result['latitude'] = list(np.linspace(east, west, maximal))\n",
    "                else:\n",
    "                    result['longitude'] = list(np.linspace(east, west, maximal))\n",
    "                    result['latitude'] = list(np.linspace(north, south, minimal))\n",
    "        else:\n",
    "            if position == 'vertical':\n",
    "                result['longitude'] = list(np.linspace(north, south, minimal))\n",
    "                result['latitude'] = list(np.linspace(east, west, maximal))\n",
    "            else:\n",
    "                result['longitude'] = list(np.linspace(east, west, maximal))\n",
    "                result['latitude'] = list(np.linspace(north, south, minimal))\n",
    "    else:\n",
    "        if position == 'vertical':\n",
    "            result['longitude'] = list(np.linspace(north, south, minimal+1))\n",
    "            result['latitude'] = list(np.linspace(east, west, maximal+1))\n",
    "        else:\n",
    "            result['longitude'] = list(np.linspace(east, west, maximal+1))\n",
    "            result['latitude'] = list(np.linspace(north, south, minimal+1))\n",
    "\n",
    "    result['longitude'] = result['longitude'][1:-1]\n",
    "    result['latitude'] = result['latitude'][1:-1]\n",
    "    result['side'] = {'north': north, 'south': south, 'east': east, 'west': west}\n",
    "\n",
    "    return result\n"
   ]
  },
  {
   "cell_type": "code",
   "execution_count": 6,
   "id": "de2be474",
   "metadata": {},
   "outputs": [],
   "source": [
    "def visualisation_of_squares(df: pd.DataFrame, n_squares: int=4) -> dict:\n",
    "    if n_squares < 0:\n",
    "        print('Separation number is negative')\n",
    "        return dict()\n",
    "    multiplies = get_divisors(n_squares)\n",
    "    if multiplies[0] == 1 and not (n_squares ** .5 == int(n_squares ** .5)):\n",
    "        print('Primal number!')\n",
    "        return dict()\n",
    "    \n",
    "    result = separation_to_squares(df, n_squares)\n",
    "\n",
    "    fig, axes = plt.subplots(figsize=(12, 12))\n",
    "    axes.scatter(data=df, x='latitude', y='longitude')\n",
    "\n",
    "    for x in result['latitude']:\n",
    "        axes.plot(np.array([x, x]), np.array([result['side']['south'], result['side']['north']]), color='red')\n",
    "\n",
    "    for x in result['longitude']:\n",
    "        axes.plot(np.array([result['side']['west'], result['side']['east']]), np.array([x, x]), color='red')\n",
    "        \n",
    "    axes.set_xlabel('latitude')\n",
    "    axes.set_ylabel('longitude')\n",
    "\n",
    "    return result"
   ]
  },
  {
   "cell_type": "code",
   "execution_count": 7,
   "id": "09111178",
   "metadata": {},
   "outputs": [],
   "source": [
    "#visualisation_of_squares(lenght, 9)"
   ]
  },
  {
   "cell_type": "markdown",
   "id": "a9faf802",
   "metadata": {},
   "source": [
    "#### Math model"
   ]
  },
  {
   "cell_type": "code",
   "execution_count": 8,
   "id": "182b3abe",
   "metadata": {},
   "outputs": [],
   "source": [
    "model = copy.deepcopy(income)\n",
    "RUB = 10**6\n",
    "days = 14\n",
    "month_day = 30\n",
    "downtime = 10"
   ]
  },
  {
   "cell_type": "code",
   "execution_count": 9,
   "id": "fd816e9a",
   "metadata": {},
   "outputs": [],
   "source": [
    "tmp = list(income.columns)\n",
    "model['sum'] = model[tmp].sum(axis=1)\n",
    "model['mean'] = model[tmp].mean(axis=1)\n",
    "model['std'] = model[tmp].std(axis=1)\n",
    "model = model.drop(columns=tmp)\n",
    "\n",
    "model['day'] = RUB/model['mean']\n",
    "model['day_with_limit'] = np.where(model.day>=14, 14, model.day)\n",
    "model['number_trips'] = month_day/model.day_with_limit\n",
    "model['limit'] = model['day_with_limit'].round(0)\n",
    "model['quantity'] = 1\n",
    "\n",
    "\n",
    "model['test'] = model['number_trips'].round()"
   ]
  },
  {
   "cell_type": "code",
   "execution_count": 10,
   "id": "822894b8",
   "metadata": {},
   "outputs": [],
   "source": [
    "pivotmodel2 = model.groupby(by='limit')[['quantity']].sum().reset_index()\n",
    "pivotmodel2['loop'] = pivotmodel2.quantity / pivotmodel2.limit.max()\n",
    "pivotmodel2['case_loop'] = pivotmodel2.limit.max() / pivotmodel2.limit\n",
    "pivotmodel2['category'] = np.where(pivotmodel2.loop > 5, 'b', 'a')"
   ]
  },
  {
   "cell_type": "code",
   "execution_count": 11,
   "id": "206dff21",
   "metadata": {},
   "outputs": [],
   "source": [
    "model = model.reset_index().merge(pivotmodel2[['limit', 'category']], on='limit', how='left')\n",
    "model = model.set_index('TID')"
   ]
  },
  {
   "cell_type": "markdown",
   "id": "a5f970eb",
   "metadata": {},
   "source": [
    "#### K-Means Classtering"
   ]
  },
  {
   "cell_type": "code",
   "execution_count": 12,
   "id": "287c55f8",
   "metadata": {},
   "outputs": [],
   "source": [
    "A_category = lenght.merge(model.query('category == \"a\"')[['test']], left_index=True, right_index=True, how='inner')\n",
    "B_category = lenght.merge(model.query('category == \"b\"')[['test']], left_index=True, right_index=True, how='inner')\n",
    "df = lenght.merge(model[['mean']], left_index=True, right_index=True, how='inner')"
   ]
  },
  {
   "cell_type": "code",
   "execution_count": 13,
   "id": "3b6a9423",
   "metadata": {},
   "outputs": [],
   "source": [
    "class Clastering():\n",
    "\n",
    "    def __init__(self, df: pd.DataFrame, case: str, claster_limit: float, figsize: tuple=(5,3)):\n",
    "        self.df = df\n",
    "        self.case = case\n",
    "        self.claster_limit = claster_limit\n",
    "        self.__k = claster_limit+1\n",
    "        self.figsize = figsize\n",
    "\n",
    "\n",
    "    def distance(self, p1, p2):\n",
    "        return haversine(p1[1:],p2[1:])\n",
    "    \n",
    "\n",
    "    def cluster_centroids(self, vals, clusters, k):\n",
    "        results=[]\n",
    "        for i in range(k):\n",
    "            results.append(np.average(vals[clusters == i],weights=np.squeeze(np.asarray(vals[clusters == i][:,[0]])),axis=0))\n",
    "        return results\n",
    "\n",
    "\n",
    "    def kmeans(self, vals, k=None, centroids=None, steps=20):\n",
    "        centroids = vals[np.random.choice(np.arange(len(vals)), k, False)]\n",
    "        elbow = []\n",
    "        for _ in range(max(steps, 1)):\n",
    "            sqdists = scipy.spatial.distance.cdist(centroids, vals, lambda u, v: (self.distance(u,v)**2))\n",
    "            elbow.append(sqdists)\n",
    "            clusters = np.argmin(sqdists, axis=0)\n",
    "            new_centroids = self.cluster_centroids(vals, clusters, k)\n",
    "            if np.array_equal(new_centroids, centroids):\n",
    "                break\n",
    "            centroids = new_centroids\n",
    "        \n",
    "        return clusters, centroids, elbow\n",
    "\n",
    "\n",
    "    def SSE(self) -> dict:\n",
    "        vals = self.df[[self.case,'latitude','longitude']].values\n",
    "        sse=[]\n",
    "        data = {}\n",
    "        try:\n",
    "            for k in range(1,self.__k):\n",
    "                clusters, centroids, elbow=self.kmeans(vals, k)\n",
    "                sqdist = np.sum((elbow-np.mean(elbow))**2)\n",
    "                sse.append(sqdist)\n",
    "                data[k] = {'clusters': clusters, 'centroids': centroids, 'elbow': elbow}\n",
    "\n",
    "            sse=sorted(sse,reverse=True)\n",
    "            return {'sse': sse, 'data': data}\n",
    "        except Exception:\n",
    "            return self.SSE()\n",
    "\n",
    "    def define_claster_limit(self, sse: list) -> list[int]:\n",
    "        return [self.claster_limit, sse[self.claster_limit-1]]\n",
    "        # for x in sse:\n",
    "        #     if x <= self.claster_limit:\n",
    "        #         c.append(sse.index(x)+1)\n",
    "        #         c.append(x)\n",
    "        #         return c\n",
    "\n",
    "    \n",
    "    def visualisation_claster(self) -> dict:\n",
    "        df = self.SSE()\n",
    "        sse = df['sse']\n",
    "        fig = plt.figure(figsize=(5,3))\n",
    "        c = self.define_claster_limit(sse)\n",
    "        x=list(range(1,self.__k))\n",
    "        labels=x\n",
    "        plt.plot(x,sse,'r')\n",
    "        plt.scatter(x,sse,marker='x')\n",
    "        plt.xticks(x, labels)\n",
    "        plt.title('Elbow Method')\n",
    "        plt.xlabel('K')\n",
    "        plt.ylabel('SSE Distance')\n",
    "        plt.plot([c[0], c[0]], [0, c[1]], color='green', linestyle='dashed', linewidth=2)  # plotting the arbitrary line from point (25,10) to (65,45).    \n",
    "        plt.show()\n",
    "        df['clester_count'] = c[0]\n",
    "        return df\n",
    "\n",
    "\n",
    "    def selections(self):\n",
    "        scce = self.visualisation_claster()\n",
    "        data = scce['data'][scce['clester_count']]\n",
    "\n",
    "        self.df['c']=[int(c) for c in data['clusters']]\n",
    "\n",
    "        lats = [data['centroids'][i][1] for i in range(scce['clester_count'])]\n",
    "        self.df['clat'] = self.df['c'].map(lambda x: lats[x])\n",
    "\n",
    "        longs = [data['centroids'][i][2] for i in range(scce['clester_count'])]\n",
    "        self.df['clong'] = self.df['c'].map(lambda x: longs[x])\n",
    "\n",
    "        return self.df, scce\n",
    "    \n",
    "\n",
    "    @staticmethod\n",
    "    def plot_clasters(df, k):\n",
    "        c_lat=list(set(df['clat']))\n",
    "        c_long=list(set(df['clong']))\n",
    "\n",
    "        fig, ax = plt.subplots(figsize=(10, 6))\n",
    "        colors = ['gold', 'cornflowerblue', 'limegreen', 'violet', 'pink', \n",
    "                  'brown', 'salmon', 'aqua', 'olive', 'chocolate',\n",
    "                  'indigo', 'orchid', 'silver', 'peru', 'navu']\n",
    "        for x in range(k):\n",
    "            x1=df.query(f'c=={x}')['latitude'].values.tolist()\n",
    "            y1=df.query(f'c=={x}')['longitude'].values.tolist()\n",
    "            plt.scatter(y1,x1, color=colors[x])\n",
    "        plt.scatter(c_long,c_lat,marker='x', color='black')\n",
    "        plt.show()\n",
    "        "
   ]
  },
  {
   "cell_type": "code",
   "execution_count": 14,
   "id": "dc9f4f51",
   "metadata": {},
   "outputs": [],
   "source": [
    "A_category = Clastering(A_category, 'test', 14)\n",
    "B_category = Clastering(B_category, 'test', 14)\n",
    "df = Clastering(df, 'number_trips', 14)"
   ]
  },
  {
   "cell_type": "code",
   "execution_count": 15,
   "id": "f2beb9bd",
   "metadata": {},
   "outputs": [
    {
     "data": {
      "image/png": "[encoded data removed]",
      "text/plain": [
       "<Figure size 500x300 with 1 Axes>"
      ]
     },
     "metadata": {},
     "output_type": "display_data"
    },
    {
     "data": {
      "image/png": "[encoded data removed]",
      "text/plain": [
       "<Figure size 1000x600 with 1 Axes>"
      ]
     },
     "metadata": {},
     "output_type": "display_data"
    }
   ],
   "source": [
    "A_category, scce = A_category.selections()\n",
    "Clastering.plot_clasters(A_category, scce['clester_count'])"
   ]
  },
  {
   "cell_type": "code",
   "execution_count": 16,
   "id": "069ec434",
   "metadata": {},
   "outputs": [
    {
     "data": {
      "image/png": "[encoded data removed]",
      "text/plain": [
       "<Figure size 500x300 with 1 Axes>"
      ]
     },
     "metadata": {},
     "output_type": "display_data"
    },
    {
     "data": {
      "image/png": "[encoded data removed]",
      "text/plain": [
       "<Figure size 1000x600 with 1 Axes>"
      ]
     },
     "metadata": {},
     "output_type": "display_data"
    }
   ],
   "source": [
    "B_category, scce = B_category.selections()\n",
    "Clastering.plot_clasters(B_category, scce['clester_count'])"
   ]
  },
  {
   "cell_type": "markdown",
   "id": "8abe7fad",
   "metadata": {},
   "source": [
    "#### K-Means Classtering (added)"
   ]
  },
  {
   "cell_type": "code",
   "execution_count": 17,
   "id": "faa2e4eb",
   "metadata": {},
   "outputs": [],
   "source": [
    "A_category = A_category.reset_index()\n",
    "B_category = B_category.reset_index()\n",
    "model_added = copy.deepcopy(model)\n",
    "\n",
    "\n",
    "def float_to_int(base: int, x: float) -> int:\n",
    "    x = str(x).split('.')\n",
    "    return int(x[0])*base + int(x[1])"
   ]
  },
  {
   "cell_type": "code",
   "execution_count": 18,
   "id": "449b5565",
   "metadata": {},
   "outputs": [],
   "source": [
    "A_claster = times.merge(A_category[['TID', 'c']], left_on='Origin_tid', right_on='TID', how='left')\n",
    "A_claster = A_claster.merge(A_category[['TID', 'c']], left_on='Destination_tid', right_on='TID', how='left')\n",
    "\n",
    "B_claster = times.merge(B_category[['TID', 'c']], left_on='Origin_tid', right_on='TID', how='left')\n",
    "B_claster = B_claster.merge(B_category[['TID', 'c']], left_on='Destination_tid', right_on='TID', how='left')"
   ]
  },
  {
   "cell_type": "code",
   "execution_count": 19,
   "id": "591a7aed",
   "metadata": {},
   "outputs": [],
   "source": [
    "A_claster = A_claster.query('c_x==c_y').drop(columns=['TID_x', 'TID_y', 'c_y']).rename(columns={'c_x': 'cluster'})\n",
    "B_claster = B_claster.query('c_x==c_y').drop(columns=['TID_x', 'TID_y', 'c_y']).rename(columns={'c_x': 'cluster'})\n"
   ]
  },
  {
   "cell_type": "code",
   "execution_count": 20,
   "id": "73dfe5d8",
   "metadata": {},
   "outputs": [
    {
     "name": "stdout",
     "output_type": "stream",
     "text": [
      "35.66736386574945\n",
      "377\n",
      "26.928571428571427\n",
      "740.3286066510818\n",
      "1.0282341759042806\n",
      "\n",
      "    Mean Time  Number of points    Time %  Number of cluster  Total time A  \\\n",
      "0   39.244636                11  0.264841                  0    431.691000   \n",
      "1   39.194935                18  0.432827                  1    705.508824   \n",
      "2   38.400690                21  0.494733                  2    806.414500   \n",
      "3   15.986456                43  0.421729                  3    687.417619   \n",
      "4   63.736556                10  0.391022                  4    637.365556   \n",
      "5   63.302571                15  0.582539                  5    949.538571   \n",
      "6   27.628990                38  0.644111                  6   1049.901622   \n",
      "7   28.347444                10  0.173911                  7    283.474444   \n",
      "8   69.190417                 9  0.382033                  8    622.713750   \n",
      "9   21.882941                51  0.684681                  9   1116.030000   \n",
      "10  14.747623                47  0.425238                 10    693.138261   \n",
      "11  28.109783                25  0.431132                 11    702.744583   \n",
      "12  33.796486                24  0.497617                 12    811.115652   \n",
      "13  15.773566                55  0.532237                 13    867.546111   \n",
      "\n",
      "    Total time A / 720  \n",
      "0             0.599571  \n",
      "1             0.979873  \n",
      "2             1.120020  \n",
      "3             0.954747  \n",
      "4             0.885230  \n",
      "5             1.318804  \n",
      "6             1.458197  \n",
      "7             0.393715  \n",
      "8             0.864880  \n",
      "9             1.550042  \n",
      "10            0.962692  \n",
      "11            0.976034  \n",
      "12            1.126550  \n",
      "13            1.204925  \n"
     ]
    }
   ],
   "source": [
    "\n",
    "l = pd.DataFrame({\n",
    "      'Mean Time': A_claster.query(f'cluster=={x}').Total_Time.mean(), \n",
    "      'Number of points': A_claster.query(f'cluster=={x}').drop_duplicates(subset='Origin_tid', keep='first').shape[0],\n",
    "      'Time %': (A_claster.query(f'cluster=={x}').drop_duplicates(subset='Origin_tid', keep='first').shape[0]/model.shape[0]) * A_claster.query(f'cluster=={x}').Total_Time.mean(),\n",
    "      'Number of cluster': x} for x in range(scce['clester_count']))\n",
    "print(l['Mean Time'].mean())\n",
    "print(l['Number of points'].sum())\n",
    "print(l['Number of points'].mean())\n",
    "l['Total time A'] = l['Mean Time'] * l['Number of points']\n",
    "l['Total time A / 720'] = l['Total time A'] / 720\n",
    "print(l['Total time A'].mean())\n",
    "print(l['Total time A / 720'].mean())\n",
    "print()\n",
    "print(l)"
   ]
  },
  {
   "cell_type": "code",
   "execution_count": 21,
   "id": "1a320b2d",
   "metadata": {},
   "outputs": [
    {
     "name": "stdout",
     "output_type": "stream",
     "text": [
      "36.1870453842548\n",
      "1253\n",
      "89.5\n",
      "2664.227185863412\n",
      "3.7003155359214053\n",
      "\n",
      "    Mean Time  Number of points    Time %  Number of cluster  Total time B  \\\n",
      "0   52.802127                52  1.684485                  0   2745.710588   \n",
      "1   40.482251                78  1.937187                  1   3157.615584   \n",
      "2   21.930787               214  2.879257                  2   4693.188357   \n",
      "3   36.149556                72  1.596790                  3   2602.768028   \n",
      "4   21.587105               245  3.244688                  4   5288.840820   \n",
      "5   26.192871                88  1.414094                  5   2304.972644   \n",
      "6   31.251556                85  1.629682                  6   2656.382262   \n",
      "7   19.935385               165  2.017999                  7   3289.338476   \n",
      "8   54.734696                28  0.940228                  8   1532.571481   \n",
      "9   31.511459                66  1.275924                  9   2079.756308   \n",
      "10  39.791905                42  1.025313                 10   1671.260000   \n",
      "11  51.689445                50  1.585566                 11   2584.472245   \n",
      "12  40.462027                43  1.067403                 12   1739.867143   \n",
      "13  38.097467                25  0.584317                 13    952.436667   \n",
      "\n",
      "    Total time B / 720  \n",
      "0             3.813487  \n",
      "1             4.385577  \n",
      "2             6.518317  \n",
      "3             3.614956  \n",
      "4             7.345612  \n",
      "5             3.201351  \n",
      "6             3.689420  \n",
      "7             4.568526  \n",
      "8             2.128572  \n",
      "9             2.888550  \n",
      "10            2.321194  \n",
      "11            3.589545  \n",
      "12            2.416482  \n",
      "13            1.322829  \n"
     ]
    }
   ],
   "source": [
    "l = pd.DataFrame({\n",
    "      'Mean Time': B_claster.query(f'cluster=={x}').Total_Time.mean(), \n",
    "      'Number of points': B_claster.query(f'cluster=={x}').drop_duplicates(subset='Origin_tid', keep='first').shape[0],\n",
    "      'Time %': (B_claster.query(f'cluster=={x}').drop_duplicates(subset='Origin_tid', keep='first').shape[0]/model.shape[0]) * B_claster.query(f'cluster=={x}').Total_Time.mean(),\n",
    "      'Number of cluster': x} for x in range(scce['clester_count']))\n",
    "\n",
    "print(l['Mean Time'].mean())\n",
    "print(l['Number of points'].sum())\n",
    "print(l['Number of points'].mean())\n",
    "l['Total time B'] = l['Mean Time'] * l['Number of points']\n",
    "l['Total time B / 720'] = l['Total time B'] / 720\n",
    "print(l['Total time B'].mean())\n",
    "print(l['Total time B / 720'].mean())\n",
    "print()\n",
    "print(l)"
   ]
  },
  {
   "cell_type": "code",
   "execution_count": 22,
   "id": "48c31945",
   "metadata": {},
   "outputs": [],
   "source": [
    "A_model = model_added.merge(A_claster.drop_duplicates(subset='Origin_tid', keep='first').set_index('Origin_tid')[['Total_Time', 'cluster']], left_index=True, right_index=True, how='inner')\n",
    "B_model = model_added.merge(B_claster.drop_duplicates(subset='Origin_tid', keep='first').set_index('Origin_tid')[['Total_Time', 'cluster']], left_index=True, right_index=True, how='inner')"
   ]
  },
  {
   "cell_type": "code",
   "execution_count": 23,
   "id": "a15c8952",
   "metadata": {},
   "outputs": [
    {
     "data": {
      "text/plain": [
       "1664704.2413949275"
      ]
     },
     "execution_count": 23,
     "metadata": {},
     "output_type": "execute_result"
    }
   ],
   "source": [
    "A_model['downtime'] = downtime * 60\n",
    "A_model['Total_Time'] = A_model['Total_Time'].apply(lambda x: float_to_int(100, x))\n",
    "A_model['Common_Time'] = A_model[['Total_Time', 'downtime']].sum(axis=1)\n",
    "A_model['Car_per_minute'] = 20000/(12*60)\n",
    "A_model['Maintenance_cost_one_time'] = A_model['Common_Time']/60 * A_model['Car_per_minute']\n",
    "A_model['Maintenance_cost_per_month'] = A_model['number_trips'] * A_model['Maintenance_cost_one_time']\n",
    "A_model['Car_time'] = A_model['number_trips'] * A_model['Common_Time']/60\n",
    "((A_model.Car_time.sum() / month_day) / (12*60)) * 20000 * 30"
   ]
  },
  {
   "cell_type": "code",
   "execution_count": 24,
   "id": "50330e0e",
   "metadata": {},
   "outputs": [
    {
     "data": {
      "text/plain": [
       "3141467.7624439267"
      ]
     },
     "execution_count": 24,
     "metadata": {},
     "output_type": "execute_result"
    }
   ],
   "source": [
    "B_model['downtime'] = downtime * 60\n",
    "B_model['Total_Time'] = B_model['Total_Time'].apply(lambda x: float_to_int(100, x))\n",
    "B_model['Common_Time'] = B_model[['Total_Time', 'downtime']].sum(axis=1)\n",
    "B_model['Car_per_minute'] = 20000/(12*60)\n",
    "B_model['Maintenance_cost_one_time'] = B_model['Common_Time']/60 * B_model['Car_per_minute']\n",
    "B_model['Maintenance_cost_per_month'] = B_model['number_trips'] * B_model['Maintenance_cost_one_time']\n",
    "B_model['Car_time'] = B_model['number_trips'] * B_model['Common_Time']/60\n",
    "((B_model.Car_time.sum() / month_day) / (12*60)) * 20000 * 30"
   ]
  },
  {
   "cell_type": "code",
   "execution_count": 25,
   "id": "6c929474",
   "metadata": {},
   "outputs": [
    {
     "data": {
      "text/html": [
       "<div>\n",
       "<style scoped>\n",
       "    .dataframe tbody tr th:only-of-type {\n",
       "        vertical-align: middle;\n",
       "    }\n",
       "\n",
       "    .dataframe tbody tr th {\n",
       "        vertical-align: top;\n",
       "    }\n",
       "\n",
       "    .dataframe thead th {\n",
       "        text-align: right;\n",
       "    }\n",
       "</style>\n",
       "<table border=\"1\" class=\"dataframe\">\n",
       "  <thead>\n",
       "    <tr style=\"text-align: right;\">\n",
       "      <th></th>\n",
       "      <th>Origin_tid</th>\n",
       "      <th>Destination_tid</th>\n",
       "      <th>Total_Time</th>\n",
       "      <th>cluster</th>\n",
       "    </tr>\n",
       "  </thead>\n",
       "  <tbody>\n",
       "    <tr>\n",
       "      <th>83</th>\n",
       "      <td>607066</td>\n",
       "      <td>680312</td>\n",
       "      <td>30.49</td>\n",
       "      <td>12.0</td>\n",
       "    </tr>\n",
       "    <tr>\n",
       "      <th>747</th>\n",
       "      <td>609468</td>\n",
       "      <td>695030</td>\n",
       "      <td>4.76</td>\n",
       "      <td>4.0</td>\n",
       "    </tr>\n",
       "    <tr>\n",
       "      <th>825</th>\n",
       "      <td>629520</td>\n",
       "      <td>695030</td>\n",
       "      <td>4.79</td>\n",
       "      <td>4.0</td>\n",
       "    </tr>\n",
       "    <tr>\n",
       "      <th>903</th>\n",
       "      <td>698682</td>\n",
       "      <td>695030</td>\n",
       "      <td>5.16</td>\n",
       "      <td>4.0</td>\n",
       "    </tr>\n",
       "    <tr>\n",
       "      <th>1004</th>\n",
       "      <td>635206</td>\n",
       "      <td>635287</td>\n",
       "      <td>50.95</td>\n",
       "      <td>1.0</td>\n",
       "    </tr>\n",
       "    <tr>\n",
       "      <th>...</th>\n",
       "      <td>...</td>\n",
       "      <td>...</td>\n",
       "      <td>...</td>\n",
       "      <td>...</td>\n",
       "    </tr>\n",
       "    <tr>\n",
       "      <th>766659</th>\n",
       "      <td>645381</td>\n",
       "      <td>622486</td>\n",
       "      <td>26.56</td>\n",
       "      <td>5.0</td>\n",
       "    </tr>\n",
       "    <tr>\n",
       "      <th>843363</th>\n",
       "      <td>606554</td>\n",
       "      <td>606556</td>\n",
       "      <td>1.63</td>\n",
       "      <td>11.0</td>\n",
       "    </tr>\n",
       "    <tr>\n",
       "      <th>860214</th>\n",
       "      <td>606578</td>\n",
       "      <td>662968</td>\n",
       "      <td>29.51</td>\n",
       "      <td>11.0</td>\n",
       "    </tr>\n",
       "    <tr>\n",
       "      <th>1324620</th>\n",
       "      <td>635569</td>\n",
       "      <td>679673</td>\n",
       "      <td>74.88</td>\n",
       "      <td>13.0</td>\n",
       "    </tr>\n",
       "    <tr>\n",
       "      <th>1324860</th>\n",
       "      <td>635218</td>\n",
       "      <td>679673</td>\n",
       "      <td>4.29</td>\n",
       "      <td>13.0</td>\n",
       "    </tr>\n",
       "  </tbody>\n",
       "</table>\n",
       "<p>1253 rows × 4 columns</p>\n",
       "</div>"
      ],
      "text/plain": [
       "         Origin_tid  Destination_tid  Total_Time  cluster\n",
       "83           607066           680312       30.49     12.0\n",
       "747          609468           695030        4.76      4.0\n",
       "825          629520           695030        4.79      4.0\n",
       "903          698682           695030        5.16      4.0\n",
       "1004         635206           635287       50.95      1.0\n",
       "...             ...              ...         ...      ...\n",
       "766659       645381           622486       26.56      5.0\n",
       "843363       606554           606556        1.63     11.0\n",
       "860214       606578           662968       29.51     11.0\n",
       "1324620      635569           679673       74.88     13.0\n",
       "1324860      635218           679673        4.29     13.0\n",
       "\n",
       "[1253 rows x 4 columns]"
      ]
     },
     "execution_count": 25,
     "metadata": {},
     "output_type": "execute_result"
    }
   ],
   "source": [
    "B_claster.drop_duplicates(subset='Origin_tid', keep='first')"
   ]
  },
  {
   "cell_type": "markdown",
   "id": "1800fb7e",
   "metadata": {},
   "source": [
    "### Reesrt of routes"
   ]
  },
  {
   "cell_type": "code",
   "execution_count": 26,
   "id": "35bb2a58",
   "metadata": {},
   "outputs": [],
   "source": [
    "income.columns = pd.to_datetime(income.columns).date\n",
    "B_income = B_claster.drop_duplicates(subset='Origin_tid', keep='first').rename(columns={'Origin_tid': 'TID'}).set_index('TID')[['cluster']].merge(\n",
    "    income, left_index=True, right_index=True, how='left'\n",
    ")\n",
    "start = B_income.columns[1]"
   ]
  },
  {
   "cell_type": "code",
   "execution_count": 27,
   "id": "e8458339",
   "metadata": {},
   "outputs": [],
   "source": [
    "residue = B_income[[start]].reset_index()\n",
    "residue['Date'] = start\n",
    "residue['Number_day'] = 0\n",
    "residue = residue.rename(columns={'TID': 'Id', start: 'Balance_close'})\n",
    "reestr = pd.DataFrame([], columns=['Id', 'Balance_open', 'Income', 'Outcome', 'Balance_close', 'Date', 'Number_day'])\n",
    "reestr = pd.concat([reestr, residue]).fillna(0)"
   ]
  },
  {
   "cell_type": "code",
   "execution_count": 28,
   "id": "062515c3",
   "metadata": {},
   "outputs": [],
   "source": [
    "# if True:\n",
    "#     c = 0\n",
    "\n",
    "#     for x in list(B_income.columns)[2:32]:\n",
    "#         counter = B_income.shape[0]/7\n",
    "#         nextday = B_income[[x]]\n",
    "#         nextday = nextday.reset_index()\n",
    "#         nextday['Date'] = x\n",
    "#         nextday = nextday.rename(columns={'TID': 'Id', x: 'Income'})\n",
    "\n",
    "#         for y in list(nextday.Id):\n",
    "            \n",
    "#             signal = int(c%14)\n",
    "#             c += 1\n",
    "\n",
    "#             reestr_tmp = reestr.query(f'Id=={y}').tail(1)\n",
    "#             nextday_tmp = nextday.query(f'Id=={y}')\n",
    "\n",
    "#             nextday_tmp['Balance_open'] = reestr_tmp.Balance_close.values[0]\n",
    "\n",
    "#             #(nextday_tmp.Number_day >= 14) | \n",
    "\n",
    "#             nextday_tmp['Number_day'] = reestr_tmp.Number_day.values[0]+1\n",
    "#             nextday_tmp['Outcome'] = np.where((nextday_tmp.Balance_open >= 10**6) | \n",
    "#                                               (nextday_tmp.Number_day == signal), nextday_tmp.Balance_open, 0)\n",
    "\n",
    "            \n",
    "\n",
    "#             nextday_tmp['Number_day'] = np.where((nextday_tmp.Number_day.values[0] >= 14) | (nextday_tmp.Outcome !=0), 1, nextday_tmp.Number_day)\n",
    "#             nextday_tmp['Balance_close'] = nextday_tmp.Balance_open + nextday_tmp.Income - nextday_tmp.Outcome\n",
    "\n",
    "#             reestr = pd.concat([reestr, nextday_tmp]).fillna(0)\n",
    "\n",
    "#         for y in list(reestr.query('Date == @x and Outcome == 0').sort_values(by='Balance_open', ascending=False).Id):\n",
    "#             if reestr.query(f'Date == @x and Outcome != 0').shape[0] >= counter:\n",
    "#                 break\n",
    "\n",
    "#             reestr_tmp = reestr.query(f'Id=={y}').tail(1)\n",
    "#             nextday_tmp = nextday.query(f'Id=={y}')\n",
    "\n",
    "#             nextday_tmp['Balance_open'] = reestr_tmp.Balance_close.values[0]\n",
    "\n",
    "#             nextday_tmp['Outcome'] = np.where(True, nextday_tmp.Balance_open, 0)\n",
    "\n",
    "#             nextday_tmp['Number_day'] = 1\n",
    "#             nextday_tmp['Balance_close'] = nextday_tmp.Balance_open + nextday_tmp.Income - nextday_tmp.Outcome\n",
    "\n",
    "#             reestr = pd.concat([reestr, nextday_tmp]).fillna(0)\n",
    "\n",
    "#     reestr.to_excel(rf'./files/B_reestr_log_std.xlsx', index=False)"
   ]
  },
  {
   "cell_type": "code",
   "execution_count": 29,
   "id": "6da0fb29",
   "metadata": {},
   "outputs": [],
   "source": [
    "# pivot = pd.read_excel(rf'./files/B_reestr_log_std.xlsx')\n",
    "# pivot['signal'] = np.where(pivot.Outcome != 0, 1, np.nan)\n",
    "# pivot = pivot.pivot_table(index='Date', values='signal', aggfunc='sum')\n",
    "# pivot.to_excel(rf'./files/B_pivotr_log_std.xlsx')\n",
    "# pivot"
   ]
  },
  {
   "cell_type": "markdown",
   "id": "abcb2ae4",
   "metadata": {},
   "source": [
    "# Маршрутизация"
   ]
  },
  {
   "cell_type": "code",
   "execution_count": 30,
   "id": "4d88eaa5",
   "metadata": {},
   "outputs": [],
   "source": [
    "def build_routes(df, max_time):\n",
    "    points = list(df.columns)\n",
    "    routes = []\n",
    "    while points:\n",
    "        current_time = 0\n",
    "        route = [points.pop(0)]\n",
    "        while points:\n",
    "            # вычисление времени до следующей точки\n",
    "            next_point = min(points, key=lambda point: df.loc[route[-1], point])\n",
    "            next_time = df.loc[route[-1], next_point] + 10\n",
    "            \n",
    "            # если добавление следующей точки приведет к превышению максимального времени, \n",
    "            # завершим текущий маршрут и начнем новый\n",
    "            if current_time + next_time > max_time:\n",
    "                #print(current_time + next_time)\n",
    "                break\n",
    "            \n",
    "            route.append(next_point)\n",
    "            points.remove(next_point)\n",
    "            current_time += next_time\n",
    "\n",
    "        routes.append(route)\n",
    "\n",
    "    return routes\n",
    "\n",
    "def routes_from_arr_points(category, distance_matrix):\n",
    "    center = (category['longitude'].mean(), category['latitude'].mean())\n",
    "    category['distance_to_center'] = np.sqrt((category['longitude'] - center[0]) ** 2 + (category['latitude'] - center[1]) ** 2)\n",
    "    closest_point_index  = category.loc[[category['distance_to_center'].idxmin()]].to_dict('records')\n",
    "    \n",
    "    first_point = closest_point_index[0]['TID']\n",
    "\n",
    "    set_points = list(set(category['TID']))\n",
    "    set_points.pop(set_points.index(first_point))\n",
    "    set_points.insert(0, first_point)\n",
    "    \n",
    "    \n",
    "    df_distance = distance_matrix.loc[set_points, set_points]\n",
    "    routes = build_routes(df_distance, 2600*0.565)\n",
    "    count = 1\n",
    "    for route in routes:\n",
    "        print(len(route))\n",
    "        df_ = distance_matrix.loc[route, route]\n",
    "        \n",
    "        route = pd.DataFrame({'First': route[:-1], 'Second': route[1:]})\n",
    "        route = route.merge(times, left_on=['First', 'Second'], right_on=['Origin_tid','Destination_tid'])\n",
    "        route = route.merge(lenght, left_on=['First'], right_on=['TID'])\n",
    "        route = route.rename(columns = {'longitude':'longitude1', 'latitude':'latitude1'})\n",
    "        route['Total_Time'] = route['Total_Time'] + 10\n",
    "\n",
    "        route = route.merge(lenght, left_on=['Second'], right_on=['TID'])\n",
    "        route = route.rename(columns = {'longitude':'longitude2', 'latitude':'latitude2'})\n",
    "\n",
    "        route = route.drop(columns = ['Origin_tid', 'Destination_tid'])\n",
    "\n",
    "        route['Idle'] = 10\n",
    "        route['Delivery'] = route['Total_Time']-10\n",
    "        route = route[['First', 'Second', 'longitude1', 'latitude1', 'longitude2', 'latitude2', 'Total_Time', 'Idle', 'Delivery']]\n",
    "        route.to_excel(rf'./routes/route_number_{count}.xlsx', index=False)\n",
    "        count += 1"
   ]
  },
  {
   "cell_type": "code",
   "execution_count": 31,
   "id": "efb660a1",
   "metadata": {},
   "outputs": [
    {
     "name": "stdout",
     "output_type": "stream",
     "text": [
      "111\n",
      "114\n",
      "109\n",
      "103\n",
      "99\n",
      "110\n",
      "72\n",
      "89\n",
      "86\n",
      "88\n",
      "88\n",
      "82\n",
      "66\n",
      "36\n"
     ]
    }
   ],
   "source": [
    "routes_from_arr_points(B_category, distance_matrix)"
   ]
  }
 ],
 "metadata": {
  "kernelspec": {
   "display_name": "Python 3 (ipykernel)",
   "language": "python",
   "name": "python3"
  },
  "language_info": {
   "codemirror_mode": {
    "name": "ipython",
    "version": 3
   },
   "file_extension": ".py",
   "mimetype": "text/x-python",
   "name": "python",
   "nbconvert_exporter": "python",
   "pygments_lexer": "ipython3",
   "version": "3.11.2"
  }
 },
 "nbformat": 4,
 "nbformat_minor": 5
}
